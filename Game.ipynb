import random

# File to store user data
USER_DATA_FILE = "user_data.txt"

class RPSGame:
    def __init__(self, player_name):
        self.player_name = player_name
        self.score = 0

    def play_round(self, player_move):
        moves = ["rock", "paper", "scissors"]
        computer_move = random.choice(moves)

        if player_move == computer_move:
            result = "draw"
        elif (player_move == "rock" and computer_move == "scissors") or (player_move == "scissors" and computer_move == "paper") or (player_move == "paper" and computer_move == "rock"):
            result = "win"
            self.score += 1
        else:
            result = "lose"

        print(f"You chose {player_move} and the computer chose {computer_move}. You {result}!")
        return result

    def save_score(self):
        try:
            with open(USER_DATA_FILE, "r") as f:
                lines = f.readlines()
                high_score = int(lines[1])
        except (IndexError, FileNotFoundError):
            high_score = 0

        if self.score > high_score:
            high_score = self.score
            with open(USER_DATA_FILE, "w") as f:
                f.write(f"{self.player_name}\n{high_score}")

        return high_score
