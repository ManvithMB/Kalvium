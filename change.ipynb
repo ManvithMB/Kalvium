def calculate_change(amount, denominations):
    # sort the denominations in descending order
    denominations = sorted(denominations, reverse=True)
    
    # initialize an empty array to hold the result
    result = []
    
    # loop through each denomination
    for denomination in denominations:
        # calculate how many coins of this denomination we can use
        count = amount // denomination
        
        # add the coins to the result array
        result += [denomination] * count
        
        # update the remaining amount of change
        amount -= count * denomination
        
        # break out of the loop if we have no more change to give
        if amount == 0:
            break
    
    # if there is still some change left, it means we don't have enough coins to give the exact change
    if amount > 0:
        raise ValueError("Not enough coins to give exact change")
    
    return result


denominations = [1, 2, 5, 10, 20, 50]  # for British Pound
change = calculate_change(43, denominations)
print(change)  # output: [20, 20, 2, 1]


def calculate_change_with_availability(amount, denominations, availability):
    # sort the denominations in descending order
    denominations = sorted(denominations, reverse=True)
    
    # initialize an empty array to hold the result
    result = []
    
    # loop through each denomination
    for denomination in denominations:
        # calculate how many coins of this denomination we can use
        count = min(amount // denomination, availability.get(denomination, 0))
        
        # add the coins to the result array
        result += [denomination] * count
        
        # update the remaining amount of change and availability
        amount -= count * denomination
        availability[denomination] -= count
        
        # break out of the loop if we have no more change to give
        if amount == 0:
            break
    
    # if there is still some change left, it means we don't have enough coins to give the exact change
    if amount > 0:
        raise ValueError("Not enough coins to give exact change")
    
    return result
