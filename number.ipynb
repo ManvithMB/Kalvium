def spell_out_number(num):
    if num == 0:
        return "zero"
    elif num < 0:
        return "minus " + spell_out_number(abs(num))
    elif num < 10:
        return ["one", "two", "three", "four", "five", "six", "seven", "eight", "nine"][num-1]
    elif num < 20:
        return ["ten", "eleven", "twelve", "thirteen", "fourteen", "fifteen", "sixteen", "seventeen", "eighteen", "nineteen"][num-10]
    elif num < 100:
        if num % 10 == 0:
            return ["twenty", "thirty", "forty", "fifty", "sixty", "seventy", "eighty", "ninety"][int(num/10)-2]
        else:
            return spell_out_number(int(num/10)*10) + "-" + spell_out_number(num % 10)
    elif num < 1000:
        if num % 100 == 0:
            return spell_out_number(int(num/100)) + " hundred"
        else:
            return spell_out_number(int(num/100)) + " hundred " + spell_out_number(num % 100)
    elif num < 10000:
        if num % 1000 == 0:
            return spell_out_number(int(num/1000)) + " thousand"
        else:
            return spell_out_number(int(num/1000)) + " thousand " + spell_out_number(num % 1000)


print(spell_out_number(0))  # zero
print(spell_out_number(5))  # five
print(spell_out_number(10))  # ten
print(spell_out_number(21))  # twenty-one
print(spell_out_number(303))  # three hundred three
print(spell_out_number(3466))  # three thousand four hundred sixty-six
print(spell_out_number(5300))  # fifty-three hundred
